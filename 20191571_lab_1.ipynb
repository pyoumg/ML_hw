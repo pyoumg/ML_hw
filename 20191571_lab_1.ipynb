{
 "cells": [
  {
   "cell_type": "markdown",
   "id": "automotive-draft",
   "metadata": {},
   "source": [
    "# 연습문제\n",
    "\n",
    "\n",
    "## numpy\n",
    "\n",
    "python에서 array등을 다루는 수학/과학 컴퓨팅을 하기 위한 패키지\n",
    "\n",
    "## matplotlib\n",
    "\n",
    "python에서 matlab과 유사한 그래프 표시를 가능하게 하는 패키지"
   ]
  },
  {
   "cell_type": "code",
   "execution_count": 1,
   "id": "advanced-safety",
   "metadata": {},
   "outputs": [
    {
     "name": "stdout",
     "output_type": "stream",
     "text": [
      "Requirement already satisfied: numpy in c:\\users\\seyoung\\appdata\\local\\programs\\python\\python39\\lib\\site-packages (1.20.2)\n",
      "Requirement already satisfied: matplotlib in c:\\users\\seyoung\\appdata\\local\\programs\\python\\python39\\lib\\site-packages (3.4.1)\n",
      "Requirement already satisfied: cycler>=0.10 in c:\\users\\seyoung\\appdata\\local\\programs\\python\\python39\\lib\\site-packages (from matplotlib) (0.10.0)\n",
      "Requirement already satisfied: pillow>=6.2.0 in c:\\users\\seyoung\\appdata\\local\\programs\\python\\python39\\lib\\site-packages (from matplotlib) (8.2.0)\n",
      "Requirement already satisfied: pyparsing>=2.2.1 in c:\\users\\seyoung\\appdata\\local\\programs\\python\\python39\\lib\\site-packages (from matplotlib) (2.4.7)\n",
      "Requirement already satisfied: numpy>=1.16 in c:\\users\\seyoung\\appdata\\local\\programs\\python\\python39\\lib\\site-packages (from matplotlib) (1.20.2)\n",
      "Requirement already satisfied: python-dateutil>=2.7 in c:\\users\\seyoung\\appdata\\local\\programs\\python\\python39\\lib\\site-packages (from matplotlib) (2.8.1)\n",
      "Requirement already satisfied: kiwisolver>=1.0.1 in c:\\users\\seyoung\\appdata\\local\\programs\\python\\python39\\lib\\site-packages (from matplotlib) (1.3.1)\n",
      "Requirement already satisfied: six in c:\\users\\seyoung\\appdata\\roaming\\python\\python39\\site-packages (from cycler>=0.10->matplotlib) (1.15.0)\n"
     ]
    }
   ],
   "source": [
    "# Cell 클릭 후 Shift+Enter로 실행 (Comment는 #으로 시작)\n",
    "\n",
    "# Install necessary packages\n",
    "!pip install numpy\n",
    "!pip install matplotlib"
   ]
  },
  {
   "cell_type": "markdown",
   "id": "established-minimum",
   "metadata": {},
   "source": [
    "## numpy\n",
    "(본 cell은 markdown 형식으로, 더블클릭/Enter로 들어가고 Shift+Enter로 나갈 수 있다. 주석 용으로 사용.)  \n",
    "\n",
    "python에서 과학 컴퓨팅을 하기 위해 사용하는 패키지로 python 라이브러리로 Import 하여 사용."
   ]
  },
  {
   "cell_type": "code",
   "execution_count": 2,
   "id": "temporal-africa",
   "metadata": {},
   "outputs": [],
   "source": [
    "# 패키지 사용을 위한 약자 지정\n",
    "\n",
    "import numpy as np\n",
    "import matplotlib.pyplot as plt\n",
    "\n",
    "%matplotlib inline"
   ]
  },
  {
   "cell_type": "markdown",
   "id": "graduate-macedonia",
   "metadata": {},
   "source": [
    "# Lab_1: Perceptron\n",
    "---\n",
    "Perceptron 알고리즘 구현하기\n",
    "아래 이름, 학번을 작성하세요."
   ]
  },
  {
   "cell_type": "code",
   "execution_count": 3,
   "id": "british-offering",
   "metadata": {},
   "outputs": [],
   "source": [
    "lab1_student_id = '20191571'\n",
    "lab1_student_name = '김세영'"
   ]
  },
  {
   "cell_type": "markdown",
   "id": "animated-cinema",
   "metadata": {},
   "source": [
    "## Practice 1\n",
    "\n",
    "아래의 train_perceptron 알고리즘을 구현하시오."
   ]
  },
  {
   "cell_type": "markdown",
   "id": "typical-bubble",
   "metadata": {},
   "source": [
    "```np.random.seed``` \n",
    "\n",
    "random number(난수) 발생을 위한 조건 설정. 괄호 안의 숫자에 따라 난수 생성 방식이 다르게 고정됨\n",
    "\n",
    "(https://docs.scipy.org/doc/numpy-1.15.0/reference/generated/numpy.random.seed.html)\n",
    "\n"
   ]
  },
  {
   "cell_type": "code",
   "execution_count": 4,
   "id": "precise-schedule",
   "metadata": {},
   "outputs": [],
   "source": [
    "# Do not change\n",
    "np.random.seed(6)"
   ]
  },
  {
   "cell_type": "markdown",
   "id": "closed-calvin",
   "metadata": {},
   "source": [
    "seed(5)에서는 항상 min epoch값이 1이나와 6으로 조정하였습니다."
   ]
  },
  {
   "cell_type": "markdown",
   "id": "psychological-emerald",
   "metadata": {},
   "source": [
    "```np.random.multivariate_normal```\n",
    "\n",
    "multivariate normal distribution 으로부터 random sample 을 추출\n",
    "\n",
    "https://numpy.org/doc/stable/reference/random/generated/numpy.random.multivariate_normal.html"
   ]
  },
  {
   "cell_type": "code",
   "execution_count": 5,
   "id": "nasty-clearance",
   "metadata": {},
   "outputs": [
    {
     "name": "stdout",
     "output_type": "stream",
     "text": [
      "class_zeros: \n",
      "[[ 0.19259607  0.42312735]\n",
      " [-0.0729219  -0.35723969]\n",
      " [ 2.3111014   2.59989689]\n",
      " [-0.8734871  -1.35228542]\n",
      " [-1.5506981  -1.6866424 ]\n",
      " [-2.69333782 -2.50302492]\n",
      " [ 0.13595298  0.52736006]\n",
      " [-0.13015088 -0.08930967]\n",
      " [-0.05064208 -0.09969791]\n",
      " [-0.75442316 -0.49807154]\n",
      " [-0.63694112 -0.06374974]\n",
      " [ 1.41271919  1.26610589]\n",
      " [-0.62827028 -1.00029058]\n",
      " [-1.65749833 -1.43212119]\n",
      " [ 0.09426533  0.26319406]\n",
      " [ 0.81353546  0.34493231]\n",
      " [-0.99558124 -0.69734716]\n",
      " [-0.10953021 -0.11647352]\n",
      " [ 2.23231835  1.96845554]\n",
      " [ 0.42269974  0.49660552]] \n",
      "class_ones: \n",
      "[[-0.18977849  3.52561004]\n",
      " [ 1.48862184  6.01203077]\n",
      " [ 1.4967012   4.74708109]\n",
      " [ 0.06293928  3.5932664 ]\n",
      " [ 1.82304648  5.25696432]\n",
      " [ 0.3609054   4.94898489]\n",
      " [ 1.25259915  5.46969861]\n",
      " [ 0.81351611  6.09332891]\n",
      " [-0.28225948  3.3915938 ]\n",
      " [ 0.23447622  4.74923946]\n",
      " [ 0.7976417   4.38238199]\n",
      " [ 0.95711445  5.35520466]\n",
      " [ 0.80754522  4.33824413]\n",
      " [ 0.8480308   4.29228521]\n",
      " [ 3.00318861  7.09841734]\n",
      " [-0.03585466  4.20618251]\n",
      " [-0.89198047  4.0662691 ]\n",
      " [ 0.83617031  4.48379996]\n",
      " [ 1.44226703  4.64859525]\n",
      " [ 1.05968567  5.00992673]]\n"
     ]
    }
   ],
   "source": [
    "num_data = 20\n",
    "\n",
    "# feature dataset\n",
    "\n",
    "class_zeros = np.random.multivariate_normal(mean=[0, 0], cov=[[1., .95],[.95, 1.]], size=num_data)\n",
    "class_ones = np.random.multivariate_normal(mean=[1, 5], cov=[[1., .85],[.85, 1.]], size=num_data)\n",
    "\n",
    "print(f'class_zeros: \\n{class_zeros} \\nclass_ones: \\n{class_ones}')"
   ]
  },
  {
   "cell_type": "markdown",
   "id": "becoming-straight",
   "metadata": {},
   "source": [
    "```np.vstack, np.hstack```\n",
    "\n",
    "배열을 각각 vertically, horizontally stacking 함\n",
    "\n",
    "\n",
    "https://numpy.org/doc/stable/reference/generated/numpy.vstack.html?highlight=vstack#numpy.vstack\n",
    "\n",
    "https://numpy.org/doc/stable/reference/generated/numpy.hstack.html?highlight=hstack#numpy.hstack"
   ]
  },
  {
   "cell_type": "code",
   "execution_count": 6,
   "id": "rental-philippines",
   "metadata": {},
   "outputs": [
    {
     "name": "stdout",
     "output_type": "stream",
     "text": [
      "biases: \n",
      "[[1.]\n",
      " [1.]\n",
      " [1.]\n",
      " [1.]\n",
      " [1.]\n",
      " [1.]\n",
      " [1.]\n",
      " [1.]\n",
      " [1.]\n",
      " [1.]\n",
      " [1.]\n",
      " [1.]\n",
      " [1.]\n",
      " [1.]\n",
      " [1.]\n",
      " [1.]\n",
      " [1.]\n",
      " [1.]\n",
      " [1.]\n",
      " [1.]\n",
      " [1.]\n",
      " [1.]\n",
      " [1.]\n",
      " [1.]\n",
      " [1.]\n",
      " [1.]\n",
      " [1.]\n",
      " [1.]\n",
      " [1.]\n",
      " [1.]\n",
      " [1.]\n",
      " [1.]\n",
      " [1.]\n",
      " [1.]\n",
      " [1.]\n",
      " [1.]\n",
      " [1.]\n",
      " [1.]\n",
      " [1.]\n",
      " [1.]] \n",
      "class_data: \n",
      "[[ 0.19259606  0.42312735]\n",
      " [-0.0729219  -0.3572397 ]\n",
      " [ 2.3111014   2.599897  ]\n",
      " [-0.8734871  -1.3522854 ]\n",
      " [-1.5506982  -1.6866424 ]\n",
      " [-2.693338   -2.5030248 ]\n",
      " [ 0.13595298  0.5273601 ]\n",
      " [-0.13015088 -0.08930967]\n",
      " [-0.05064208 -0.09969791]\n",
      " [-0.75442314 -0.49807155]\n",
      " [-0.63694113 -0.06374974]\n",
      " [ 1.4127191   1.2661059 ]\n",
      " [-0.62827027 -1.0002906 ]\n",
      " [-1.6574984  -1.4321212 ]\n",
      " [ 0.09426533  0.26319405]\n",
      " [ 0.81353545  0.34493232]\n",
      " [-0.99558127 -0.69734716]\n",
      " [-0.1095302  -0.11647352]\n",
      " [ 2.2323184   1.9684556 ]\n",
      " [ 0.42269975  0.49660552]\n",
      " [-0.18977849  3.52561   ]\n",
      " [ 1.4886218   6.0120306 ]\n",
      " [ 1.4967012   4.7470813 ]\n",
      " [ 0.06293928  3.5932665 ]\n",
      " [ 1.8230464   5.256964  ]\n",
      " [ 0.3609054   4.948985  ]\n",
      " [ 1.2525991   5.4696984 ]\n",
      " [ 0.8135161   6.093329  ]\n",
      " [-0.2822595   3.3915937 ]\n",
      " [ 0.23447622  4.7492394 ]\n",
      " [ 0.7976417   4.382382  ]\n",
      " [ 0.95711446  5.3552046 ]\n",
      " [ 0.80754524  4.338244  ]\n",
      " [ 0.8480308   4.2922854 ]\n",
      " [ 3.0031886   7.0984173 ]\n",
      " [-0.03585466  4.2061825 ]\n",
      " [-0.89198047  4.066269  ]\n",
      " [ 0.8361703   4.4838    ]\n",
      " [ 1.4422671   4.6485953 ]\n",
      " [ 1.0596857   5.009927  ]] \n",
      "features: \n",
      "[[ 1.          0.19259606  0.42312735]\n",
      " [ 1.         -0.0729219  -0.35723969]\n",
      " [ 1.          2.31110144  2.59989691]\n",
      " [ 1.         -0.87348711 -1.35228539]\n",
      " [ 1.         -1.55069816 -1.68664241]\n",
      " [ 1.         -2.69333792 -2.50302482]\n",
      " [ 1.          0.13595298  0.52736008]\n",
      " [ 1.         -0.13015088 -0.08930967]\n",
      " [ 1.         -0.05064208 -0.09969791]\n",
      " [ 1.         -0.75442314 -0.49807155]\n",
      " [ 1.         -0.63694113 -0.06374974]\n",
      " [ 1.          1.41271913  1.26610589]\n",
      " [ 1.         -0.62827027 -1.00029063]\n",
      " [ 1.         -1.65749836 -1.43212116]\n",
      " [ 1.          0.09426533  0.26319405]\n",
      " [ 1.          0.81353545  0.34493232]\n",
      " [ 1.         -0.99558127 -0.69734716]\n",
      " [ 1.         -0.1095302  -0.11647352]\n",
      " [ 1.          2.2323184   1.96845555]\n",
      " [ 1.          0.42269975  0.49660552]\n",
      " [ 1.         -0.18977849  3.52560997]\n",
      " [ 1.          1.48862183  6.0120306 ]\n",
      " [ 1.          1.49670124  4.74708128]\n",
      " [ 1.          0.06293928  3.59326649]\n",
      " [ 1.          1.82304645  5.25696421]\n",
      " [ 1.          0.36090541  4.9489851 ]\n",
      " [ 1.          1.25259912  5.46969843]\n",
      " [ 1.          0.81351608  6.09332895]\n",
      " [ 1.         -0.28225949  3.39159369]\n",
      " [ 1.          0.23447622  4.74923944]\n",
      " [ 1.          0.79764169  4.38238192]\n",
      " [ 1.          0.95711446  5.35520458]\n",
      " [ 1.          0.80754524  4.33824396]\n",
      " [ 1.          0.84803081  4.29228544]\n",
      " [ 1.          3.00318861  7.09841728]\n",
      " [ 1.         -0.03585466  4.20618248]\n",
      " [ 1.         -0.89198047  4.06626892]\n",
      " [ 1.          0.83617032  4.48379993]\n",
      " [ 1.          1.44226706  4.64859533]\n",
      " [ 1.          1.05968571  5.0099268 ]]\n",
      "biases.shape: \n",
      "(40, 1) \n",
      "class_data.shape: \n",
      "(40, 2) \n",
      "features.shape: \n",
      "(40, 3)\n"
     ]
    }
   ],
   "source": [
    "biases = np.ones((2 * num_data, 1))\n",
    "\n",
    "class_data = np.vstack((class_zeros, class_ones)).astype(np.float32)\n",
    "\n",
    "features = np.hstack((biases, class_data))\n",
    "\n",
    "print(f'biases: \\n{biases} \\nclass_data: \\n{class_data} \\nfeatures: \\n{features}')\n",
    "print(f'biases.shape: \\n{biases.shape} \\nclass_data.shape: \\n{class_data.shape} \\\n",
    "\\nfeatures.shape: \\n{features.shape}')"
   ]
  },
  {
   "cell_type": "code",
   "execution_count": 7,
   "id": "french-harvey",
   "metadata": {},
   "outputs": [
    {
     "name": "stdout",
     "output_type": "stream",
     "text": [
      "labels: \n",
      "[[0.]\n",
      " [0.]\n",
      " [0.]\n",
      " [0.]\n",
      " [0.]\n",
      " [0.]\n",
      " [0.]\n",
      " [0.]\n",
      " [0.]\n",
      " [0.]\n",
      " [0.]\n",
      " [0.]\n",
      " [0.]\n",
      " [0.]\n",
      " [0.]\n",
      " [0.]\n",
      " [0.]\n",
      " [0.]\n",
      " [0.]\n",
      " [0.]\n",
      " [1.]\n",
      " [1.]\n",
      " [1.]\n",
      " [1.]\n",
      " [1.]\n",
      " [1.]\n",
      " [1.]\n",
      " [1.]\n",
      " [1.]\n",
      " [1.]\n",
      " [1.]\n",
      " [1.]\n",
      " [1.]\n",
      " [1.]\n",
      " [1.]\n",
      " [1.]\n",
      " [1.]\n",
      " [1.]\n",
      " [1.]\n",
      " [1.]] \n",
      "dataset: \n",
      "[[ 1.          0.19259606  0.42312735  0.        ]\n",
      " [ 1.         -0.0729219  -0.35723969  0.        ]\n",
      " [ 1.          2.31110144  2.59989691  0.        ]\n",
      " [ 1.         -0.87348711 -1.35228539  0.        ]\n",
      " [ 1.         -1.55069816 -1.68664241  0.        ]\n",
      " [ 1.         -2.69333792 -2.50302482  0.        ]\n",
      " [ 1.          0.13595298  0.52736008  0.        ]\n",
      " [ 1.         -0.13015088 -0.08930967  0.        ]\n",
      " [ 1.         -0.05064208 -0.09969791  0.        ]\n",
      " [ 1.         -0.75442314 -0.49807155  0.        ]\n",
      " [ 1.         -0.63694113 -0.06374974  0.        ]\n",
      " [ 1.          1.41271913  1.26610589  0.        ]\n",
      " [ 1.         -0.62827027 -1.00029063  0.        ]\n",
      " [ 1.         -1.65749836 -1.43212116  0.        ]\n",
      " [ 1.          0.09426533  0.26319405  0.        ]\n",
      " [ 1.          0.81353545  0.34493232  0.        ]\n",
      " [ 1.         -0.99558127 -0.69734716  0.        ]\n",
      " [ 1.         -0.1095302  -0.11647352  0.        ]\n",
      " [ 1.          2.2323184   1.96845555  0.        ]\n",
      " [ 1.          0.42269975  0.49660552  0.        ]\n",
      " [ 1.         -0.18977849  3.52560997  1.        ]\n",
      " [ 1.          1.48862183  6.0120306   1.        ]\n",
      " [ 1.          1.49670124  4.74708128  1.        ]\n",
      " [ 1.          0.06293928  3.59326649  1.        ]\n",
      " [ 1.          1.82304645  5.25696421  1.        ]\n",
      " [ 1.          0.36090541  4.9489851   1.        ]\n",
      " [ 1.          1.25259912  5.46969843  1.        ]\n",
      " [ 1.          0.81351608  6.09332895  1.        ]\n",
      " [ 1.         -0.28225949  3.39159369  1.        ]\n",
      " [ 1.          0.23447622  4.74923944  1.        ]\n",
      " [ 1.          0.79764169  4.38238192  1.        ]\n",
      " [ 1.          0.95711446  5.35520458  1.        ]\n",
      " [ 1.          0.80754524  4.33824396  1.        ]\n",
      " [ 1.          0.84803081  4.29228544  1.        ]\n",
      " [ 1.          3.00318861  7.09841728  1.        ]\n",
      " [ 1.         -0.03585466  4.20618248  1.        ]\n",
      " [ 1.         -0.89198047  4.06626892  1.        ]\n",
      " [ 1.          0.83617032  4.48379993  1.        ]\n",
      " [ 1.          1.44226706  4.64859533  1.        ]\n",
      " [ 1.          1.05968571  5.0099268   1.        ]]\n"
     ]
    }
   ],
   "source": [
    "# Label dataset\n",
    "\n",
    "label_zeros = np.zeros((num_data, 1))\n",
    "label_ones = np.ones((num_data, 1))\n",
    "\n",
    "labels = np.vstack((label_zeros, label_ones))\n",
    "dataset = np.hstack((features,labels))\n",
    "\n",
    "print(f'labels: \\n{labels} \\ndataset: \\n{dataset}')"
   ]
  },
  {
   "cell_type": "code",
   "execution_count": 8,
   "id": "assigned-residence",
   "metadata": {},
   "outputs": [
    {
     "data": {
      "image/png": "[encoded data removed]",
      "text/plain": [
       "<Figure size 432x288 with 1 Axes>"
      ]
     },
     "metadata": {
      "needs_background": "light"
     },
     "output_type": "display_data"
    }
   ],
   "source": [
    "plt.scatter(features[:, 1][:num_data], features[:, 2][:num_data], c = 'r', label='0')\n",
    "plt.scatter(features[:, 1][num_data:], features[:, 2][num_data:], c = 'b', label='1')\n",
    "\n",
    "plt.legend()\n",
    "plt.show()"
   ]
  },
  {
   "cell_type": "code",
   "execution_count": 9,
   "id": "retained-theta",
   "metadata": {},
   "outputs": [
    {
     "name": "stdout",
     "output_type": "stream",
     "text": [
      "(28, 4) (12, 4)\n"
     ]
    }
   ],
   "source": [
    "# dataset shuffling\n",
    "np.random.shuffle(dataset)\n",
    "\n",
    "split_ratio = 0.7\n",
    "\n",
    "# splitting dataset\n",
    "train = dataset[0:int(split_ratio * (num_data * 2))]\n",
    "test = dataset[int(split_ratio * (num_data * 2)):(num_data * 2)]\n",
    "\n",
    "print(train.shape, test.shape)"
   ]
  },
  {
   "cell_type": "code",
   "execution_count": 10,
   "id": "express-mills",
   "metadata": {},
   "outputs": [
    {
     "name": "stdout",
     "output_type": "stream",
     "text": [
      "(28, 3) (28,)\n",
      "(12, 3) (12,)\n"
     ]
    }
   ],
   "source": [
    "# reshaping data\n",
    "x_train = train[:, 0:3]\n",
    "y_train = train[:, 3]\n",
    "\n",
    "x_test = test[:, 0:3]\n",
    "y_test = test[:, 3]\n",
    "\n",
    "print(x_train.shape, y_train.shape)\n",
    "print(x_test.shape, y_test.shape)"
   ]
  },
  {
   "cell_type": "code",
   "execution_count": 11,
   "id": "assured-lindsay",
   "metadata": {},
   "outputs": [
    {
     "name": "stdout",
     "output_type": "stream",
     "text": [
      "[1.         0.23447622 4.74923944]\n",
      "1.0\n"
     ]
    }
   ],
   "source": [
    "print(x_train[0])\n",
    "print(y_train[0])"
   ]
  },
  {
   "cell_type": "code",
   "execution_count": 12,
   "id": "greenhouse-degree",
   "metadata": {},
   "outputs": [],
   "source": [
    "# Todo: practice 1\n",
    "def train_perceptron(w, x, y, epoch=30):                        \n",
    "   \n",
    "    for i in range(epoch):#epoch만큼 실행\n",
    "       \n",
    "        for j in range(len(y)):#train(test) set의 크기\n",
    "            temp=0\n",
    "            if y[j]==0:\n",
    "                temp=-1#label이 0일때는 -1을 곱해준다.\n",
    "            else:\n",
    "                temp=y[j]\n",
    "            #temp: y값\n",
    "            temp2=w.dot(x[j]*temp) #wtyx\n",
    "            \n",
    "            if temp2<0:#error\n",
    "                \n",
    "                w=w+x[j]*temp#yx를 더해서 w update\n",
    "                \n",
    "                \n",
    "  \n",
    "       \n",
    "            \n",
    "    \n",
    "    return w"
   ]
  },
  {
   "cell_type": "code",
   "execution_count": 13,
   "id": "funky-exposure",
   "metadata": {},
   "outputs": [],
   "source": [
    "# w 와 x1 을 이용해 x2 값을 구함\n",
    "\n",
    "def x2(x1, w):\n",
    "    w0 = w[0]\n",
    "    w1 = w[1]\n",
    "    w2 = w[2]\n",
    "    x2 = []\n",
    "    for i in range(len(x1 - 1)):\n",
    "        x2_temp = (-w0 -w1 * x1[i]) / w2\n",
    "        x2.append(x2_temp)\n",
    "    return x2\n",
    "\n",
    "# visualizaing decision boundary\n",
    "\n",
    "def show_plt(w, class_data, labels):\n",
    "#   w and class_data are 2-element with no bias, and 3-element with bias\n",
    "    len_w = len(w)\n",
    "    sh_data = class_data.shape\n",
    "    if len_w != sh_data[1]:\n",
    "        print('error: w and data dimension does not match')\n",
    "        return\n",
    "    \n",
    "    if len_w == 3:\n",
    "        class_data = class_data[:,1:]\n",
    "        \n",
    "    min = np.min(class_data[:, 0])\n",
    "    max = np.max(class_data[:, 0])\n",
    "    \n",
    "    x1 = np.linspace(min, max, 100)\n",
    "    x1 = x1.reshape(len(x1),1)\n",
    "    x_2 = np.asarray(x2(x1, w))\n",
    "    \n",
    "    data_zeros = class_data[labels == 0]\n",
    "    data_ones = class_data[labels == 1]\n",
    "    \n",
    "    plt.scatter(data_zeros[:, 0], data_zeros[:, 1], c = 'r', label='0')\n",
    "    plt.scatter(data_ones[:, 0], data_ones[:, 1], c = 'b', label='1')\n",
    "    plt.plot(x1, x_2)\n",
    "\n",
    "    plt.legend()\n",
    "    plt.show()\n",
    "    "
   ]
  },
  {
   "cell_type": "code",
   "execution_count": 14,
   "id": "domestic-concord",
   "metadata": {},
   "outputs": [
    {
     "data": {
      "image/png": "[encoded data removed]",
      "text/plain": [
       "<Figure size 432x288 with 1 Axes>"
      ]
     },
     "metadata": {
      "needs_background": "light"
     },
     "output_type": "display_data"
    }
   ],
   "source": [
    "w = np.random.rand(len(x_train[0]))\n",
    "\n",
    "\n",
    "show_plt(w, x_train, y_train)"
   ]
  },
  {
   "cell_type": "code",
   "execution_count": 15,
   "id": "framed-variety",
   "metadata": {},
   "outputs": [
    {
     "name": "stdout",
     "output_type": "stream",
     "text": [
      "The weights are: [-3.65532584 -1.99456841  2.80502338]\n"
     ]
    }
   ],
   "source": [
    "w = train_perceptron(w, x_train, y_train)\n",
    "\n",
    "print(\"The weights are:\", w)\n",
    "\n",
    "# Do not change\n",
    "lab1_student_answer_w = w"
   ]
  },
  {
   "cell_type": "code",
   "execution_count": 16,
   "id": "according-burton",
   "metadata": {},
   "outputs": [
    {
     "data": {
      "image/png": "[encoded data removed]",
      "text/plain": [
       "<Figure size 432x288 with 1 Axes>"
      ]
     },
     "metadata": {
      "needs_background": "light"
     },
     "output_type": "display_data"
    }
   ],
   "source": [
    "show_plt(w, x_train, y_train)"
   ]
  },
  {
   "cell_type": "code",
   "execution_count": 17,
   "id": "thorough-allowance",
   "metadata": {},
   "outputs": [
    {
     "data": {
      "image/png": "[encoded data removed]",
      "text/plain": [
       "<Figure size 432x288 with 1 Axes>"
      ]
     },
     "metadata": {
      "needs_background": "light"
     },
     "output_type": "display_data"
    }
   ],
   "source": [
    "show_plt(w, x_test, y_test)"
   ]
  },
  {
   "cell_type": "markdown",
   "id": "unique-impossible",
   "metadata": {},
   "source": [
    "## Practice 2\n",
    "\n",
    "hyperplane이 구해지는 최소 epoch를 출력할 수 있도록 train_perceptron 코드를 수정하시오."
   ]
  },
  {
   "cell_type": "code",
   "execution_count": 18,
   "id": "aggregate-sullivan",
   "metadata": {},
   "outputs": [
    {
     "data": {
      "image/png": "[encoded data removed]",
      "text/plain": [
       "<Figure size 432x288 with 1 Axes>"
      ]
     },
     "metadata": {
      "needs_background": "light"
     },
     "output_type": "display_data"
    }
   ],
   "source": [
    "num_data = 1000\n",
    "\n",
    "class_zeros = np.random.multivariate_normal(mean=[0,0], cov=[[1.,.95],[.95,1.]], size=num_data)\n",
    "class_ones = np.random.multivariate_normal(mean=[1,5], cov=[[1.,.85],[.85,1.]], size=num_data)\n",
    "\n",
    "biases = np.ones((2 * num_data, 1))\n",
    "\n",
    "class_data = np.vstack((class_zeros, class_ones)).astype(np.float32)\n",
    "\n",
    "features = np.hstack((biases, class_data))\n",
    "\n",
    "label_zeros = np.zeros((num_data, 1))\n",
    "label_ones = np.ones((num_data, 1))\n",
    "\n",
    "labels = np.vstack((label_zeros, label_ones))\n",
    "dataset = np.hstack((features,labels))\n",
    "\n",
    "plt.scatter(features[:, 1][:num_data], features[:, 2][:num_data], c = 'r', label='0')\n",
    "plt.scatter(features[:, 1][num_data:], features[:, 2][num_data:], c = 'b', label='1')\n",
    "\n",
    "plt.legend()\n",
    "plt.show()"
   ]
  },
  {
   "cell_type": "code",
   "execution_count": 19,
   "id": "hazardous-placement",
   "metadata": {},
   "outputs": [],
   "source": [
    "np.random.shuffle(dataset)\n",
    "\n",
    "split_ratio = 0.7\n",
    "\n",
    "train = dataset[0:int(split_ratio * (num_data * 2))]\n",
    "test = dataset[int(split_ratio * (num_data * 2)):(num_data * 2)]\n",
    "\n",
    "x_train = train[:, 0:3]\n",
    "y_train = train[:, 3]\n",
    "\n",
    "x_test = test[:, 0:3]\n",
    "y_test = test[:, 3]\n",
    "\n",
    "\n",
    "# Todo: practice 2\n",
    "def train_perceptron(w, x, y, epoch=30):\n",
    "    min_epoch = epoch#초기값\n",
    "    flag=True\n",
    "    for i in range(epoch):\n",
    "       \n",
    "        for j in range(len(y)):#train(test) set의 크기\n",
    "            temp=0\n",
    "            if y[j]==0:\n",
    "                temp=-1\n",
    "            else:\n",
    "                temp=y[j]\n",
    "            #temp: y값\n",
    "            temp2=w.dot(x[j]*temp) #wtyx\n",
    "            \n",
    "            if temp2<0:#error\n",
    "                \n",
    "                w=w+x[j]*temp#yx를 더해서 w update\n",
    "                flag=False\n",
    "                \n",
    "        if flag and min_epoch==epoch:# w값이 update되지 않고 min_epoch가 초기값\n",
    "            min_epoch=i+1 #for loop 가 i+1 번 수행된 상태\n",
    "        else:\n",
    "            flag=True\n",
    "                \n",
    "    #print(min_epoch)\n",
    "    return w, min_epoch"
   ]
  },
  {
   "cell_type": "code",
   "execution_count": 20,
   "id": "varying-relief",
   "metadata": {},
   "outputs": [
    {
     "data": {
      "image/png": "[encoded data removed]",
      "text/plain": [
       "<Figure size 432x288 with 1 Axes>"
      ]
     },
     "metadata": {
      "needs_background": "light"
     },
     "output_type": "display_data"
    }
   ],
   "source": [
    "w = np.random.rand(len(x_train[0]))\n",
    "\n",
    "show_plt(w, x_train, y_train)"
   ]
  },
  {
   "cell_type": "code",
   "execution_count": 21,
   "id": "earned-lincoln",
   "metadata": {},
   "outputs": [
    {
     "name": "stdout",
     "output_type": "stream",
     "text": [
      "The weights are: [-10.15517678  -8.34916775   9.32097236]\n"
     ]
    },
    {
     "data": {
      "image/png": "[encoded data removed]",
      "text/plain": [
       "<Figure size 432x288 with 1 Axes>"
      ]
     },
     "metadata": {
      "needs_background": "light"
     },
     "output_type": "display_data"
    }
   ],
   "source": [
    "w, min_epoch = train_perceptron(w, x_train, y_train)\n",
    "\n",
    "print(\"The weights are:\", w)\n",
    "\n",
    "# Do not change -->\n",
    "lab1_student_answer_w2 = w\n",
    "lab1_stduent_answer_min_epoch = min_epoch\n",
    "# <--\n",
    "show_plt(w, x_train, y_train)"
   ]
  },
  {
   "cell_type": "code",
   "execution_count": 22,
   "id": "homeless-container",
   "metadata": {},
   "outputs": [
    {
     "data": {
      "image/png": "[encoded data removed]",
      "text/plain": [
       "<Figure size 432x288 with 1 Axes>"
      ]
     },
     "metadata": {
      "needs_background": "light"
     },
     "output_type": "display_data"
    }
   ],
   "source": [
    "show_plt(w, x_test, y_test)"
   ]
  },
  {
   "cell_type": "markdown",
   "id": "continued-continent",
   "metadata": {},
   "source": [
    "## Practice 3\n",
    "\n",
    "hyperplane이 구해지는 최소 epoch를 줄일 수 있도록 train_perceptron 코드를 수정하시오."
   ]
  },
  {
   "cell_type": "code",
   "execution_count": 31,
   "id": "dirty-elevation",
   "metadata": {},
   "outputs": [],
   "source": [
    "# Todo: practice 3\n",
    "def train_perceptron(w, x, y, epoch=30):\n",
    "    min_epoch = epoch #초기값\n",
    "    flag=True\n",
    "    for i in range(epoch):\n",
    "       \n",
    "        for j in range(len(y)):#train(test) set의 크기\n",
    "            temp=0\n",
    "            if y[j]==0:\n",
    "                temp=-1\n",
    "            else:\n",
    "                temp=y[j]\n",
    "            #temp: y값\n",
    "            temp2=w.dot(x[j]*temp) #wtyx\n",
    "            \n",
    "            if temp2<0:#error\n",
    "                w=w+x[j]*temp/np.linalg.norm(x[j])#yx를 더해서 w update,\n",
    "                #이때 각 입력 벡터가 가중치에 미치는 영향이 동일한 크기가 되도록 x벡터를 x[j]의 size로 나눈 값(단위벡터가 되도록)을 더한다\n",
    "                flag=False\n",
    "                \n",
    "        if flag and min_epoch==epoch:# w값이 update되지 않고 min_epoch가 초기값\n",
    "            min_epoch=i+1 #for loop 가 i+1 번 수행된 상태\n",
    "        else:\n",
    "            flag=True\n",
    "                \n",
    "    #print(min_epoch)\n",
    "    return w, min_epoch\n"
   ]
  },
  {
   "cell_type": "code",
   "execution_count": 24,
   "id": "clean-framework",
   "metadata": {},
   "outputs": [
    {
     "data": {
      "image/png": "[encoded data removed]",
      "text/plain": [
       "<Figure size 432x288 with 1 Axes>"
      ]
     },
     "metadata": {
      "needs_background": "light"
     },
     "output_type": "display_data"
    }
   ],
   "source": [
    "w = np.random.rand(len(x_train[0]))\n",
    "\n",
    "show_plt(w, x_train, y_train)"
   ]
  },
  {
   "cell_type": "code",
   "execution_count": 25,
   "id": "capital-stone",
   "metadata": {},
   "outputs": [
    {
     "name": "stdout",
     "output_type": "stream",
     "text": [
      "The weights are: [-1.26606375 -0.60976316  0.82646443]\n"
     ]
    },
    {
     "data": {
      "image/png": "[encoded data removed]",
      "text/plain": [
       "<Figure size 432x288 with 1 Axes>"
      ]
     },
     "metadata": {
      "needs_background": "light"
     },
     "output_type": "display_data"
    }
   ],
   "source": [
    "w, min_epoch = train_perceptron(w, x_train, y_train)\n",
    "\n",
    "print(\"The weights are:\", w)\n",
    "\n",
    "# Do not change -->\n",
    "lab1_student_answer_w3 = w\n",
    "lab1_stduent_answer_min_epoch3 = min_epoch\n",
    "# <--\n",
    "show_plt(w, x_train, y_train)"
   ]
  },
  {
   "cell_type": "code",
   "execution_count": 26,
   "id": "experienced-bristol",
   "metadata": {},
   "outputs": [
    {
     "data": {
      "image/png": "[encoded data removed]",
      "text/plain": [
       "<Figure size 432x288 with 1 Axes>"
      ]
     },
     "metadata": {
      "needs_background": "light"
     },
     "output_type": "display_data"
    }
   ],
   "source": [
    "show_plt(w, x_test, y_test)"
   ]
  },
  {
   "cell_type": "markdown",
   "id": "emerging-trigger",
   "metadata": {},
   "source": [
    "수고하셨습니다. \n",
    "\n",
    "조교메일: cvipsj@sogang.ac.kr"
   ]
  },
  {
   "cell_type": "markdown",
   "id": "monetary-interview",
   "metadata": {},
   "source": [
    "# 정답 확인용\n",
    "\n",
    "수정금지 - 조교"
   ]
  },
  {
   "cell_type": "code",
   "execution_count": 27,
   "id": "shared-current",
   "metadata": {},
   "outputs": [
    {
     "name": "stdout",
     "output_type": "stream",
     "text": [
      "학번: 20191571\n",
      "이름: 김세영\n"
     ]
    }
   ],
   "source": [
    "print(f'학번: {lab1_student_id}')\n",
    "print(f'이름: {lab1_student_name}')"
   ]
  },
  {
   "cell_type": "code",
   "execution_count": 28,
   "id": "floppy-consensus",
   "metadata": {},
   "outputs": [
    {
     "name": "stdout",
     "output_type": "stream",
     "text": [
      "Answer of practice 1: False\n"
     ]
    }
   ],
   "source": [
    "print(f'Answer of practice 1: {abs(sum(lab1_student_answer_w - [-4.179, -2.512, 3.055])) < 0.01}')"
   ]
  },
  {
   "cell_type": "code",
   "execution_count": 29,
   "id": "traditional-blood",
   "metadata": {},
   "outputs": [
    {
     "name": "stdout",
     "output_type": "stream",
     "text": [
      "Answer of practice 2: False\n",
      "Min epochs at practice 2: 5\n"
     ]
    }
   ],
   "source": [
    "print(f'Answer of practice 2: {abs(sum(lab1_student_answer_w2 - [-6.628, -4.476, 5.423])) < 0.01}')\n",
    "print(f'Min epochs at practice 2: {lab1_stduent_answer_min_epoch}')"
   ]
  },
  {
   "cell_type": "code",
   "execution_count": 30,
   "id": "administrative-allah",
   "metadata": {},
   "outputs": [
    {
     "name": "stdout",
     "output_type": "stream",
     "text": [
      "Answer of practice 2: [-1.26606375 -0.60976316  0.82646443]\n",
      "Min epochs at practice 2: 2\n"
     ]
    }
   ],
   "source": [
    "print(f'Answer of practice 2: {lab1_student_answer_w3}')\n",
    "print(f'Min epochs at practice 2: {lab1_stduent_answer_min_epoch3}')"
   ]
  },
  {
   "cell_type": "code",
   "execution_count": null,
   "id": "found-motivation",
   "metadata": {},
   "outputs": [],
   "source": []
  },
  {
   "cell_type": "code",
   "execution_count": null,
   "id": "rotary-houston",
   "metadata": {},
   "outputs": [],
   "source": []
  }
 ],
 "metadata": {
  "kernelspec": {
   "display_name": "Python 3",
   "language": "python",
   "name": "python3"
  },
  "language_info": {
   "codemirror_mode": {
    "name": "ipython",
    "version": 3
   },
   "file_extension": ".py",
   "mimetype": "text/x-python",
   "name": "python",
   "nbconvert_exporter": "python",
   "pygments_lexer": "ipython3",
   "version": "3.9.2"
  }
 },
 "nbformat": 4,
 "nbformat_minor": 5
}
